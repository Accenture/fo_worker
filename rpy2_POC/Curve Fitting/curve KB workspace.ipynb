{
 "cells": [
  {
   "cell_type": "code",
   "execution_count": 2,
   "metadata": {
    "collapsed": false
   },
   "outputs": [
    {
     "name": "stdout",
     "output_type": "stream",
     "text": [
      "/Users/kenneth.l.sylvain/Sites/kohls/fo_worker/rpy2_POC/Curve Fitting\n"
     ]
    }
   ],
   "source": [
    "#Same import commands for all scripts\n",
    "import rpy2\n",
    "import pandas as pd\n",
    "import numpy as np\n",
    "#import rpy2POC\n",
    "\n",
    "import rpy2.robjects as robjects\n",
    "from rpy2.robjects.vectors import DataFrame\n",
    "from rpy2.robjects import pandas2ri\n",
    "\n",
    "pandas2ri.activate()\n",
    "\n",
    "import os \n",
    "cwd = os.getcwd()\n",
    "print(cwd)"
   ]
  },
  {
   "cell_type": "code",
   "execution_count": 5,
   "metadata": {
    "collapsed": false
   },
   "outputs": [],
   "source": []
  },
  {
   "cell_type": "code",
   "execution_count": 4,
   "metadata": {
    "collapsed": false
   },
   "outputs": [
    {
     "data": {
      "text/plain": [
       "R object with classes: ('list',) mapped to:\n",
       "<ListVector - Python:0x117cf2788 / R:0x1022d6ed8>\n",
       "[RNULLType, BoolVector]\n",
       "  value: <class 'rpy2.rinterface.RNULLType'>\n",
       "  rpy2.rinterface.NULL\n",
       "  visible: <class 'rpy2.robjects.vectors.BoolVector'>\n",
       "  R object with classes: ('logical',) mapped to:\n",
       "<BoolVector - Python:0x117cf61c8 / R:0x101989128>\n",
       "[       0]"
      ]
     },
     "execution_count": 4,
     "metadata": {},
     "output_type": "execute_result"
    }
   ],
   "source": [
    "   # Source the R code\n",
    "r_source = robjects.r['source']\n",
    "r_source('Curve Fitting and Bound Setting v11.0.R')"
   ]
  },
  {
   "cell_type": "code",
   "execution_count": 9,
   "metadata": {
    "collapsed": true
   },
   "outputs": [],
   "source": [
    "############## Curve fitting and bound setting ##############\n",
    "\n",
    "#initial parameter setting for curve fitting\n",
    "\n",
    "strcount_filter = 100\n",
    "avgsales_flter = 200\n",
    "bucket_width = 0.25\n",
    "curve_split = 0.75\n",
    "\n",
    "    #Productivity parameters\n",
    "sales_weight = 0.7\n",
    "profit_weight = 0.2\n",
    "units_weight = 0.1\n",
    "\n",
    "    #Bound parameters\n",
    "PCT_Space_Change_Limit = 0.5\n",
    "\n",
    "    #Select Optimization type Regular or Drill Down\n",
    "optimType = \"Drill_Down\"\n",
    "\n",
    "increment_size = 5\n",
    "\n",
    "# Read the 2 input files into R DataFrames\n",
    "big_master_data_Input_for_Curve_Fitting = DataFrame.from_csvfile('In_Misses_Plus Brand_Curve Fitting Input_Sales D v Space.csv',header = True, sep = ',')\n",
    "bound_input = DataFrame.from_csvfile('Bound_Input1.csv',header=True,sep=',')\n",
    "    "
   ]
  },
  {
   "cell_type": "code",
   "execution_count": null,
   "metadata": {
    "collapsed": true
   },
   "outputs": [],
   "source": [
    "#def rpy2_curve_fitting_bound_setting(big_master_data,bound_input,increment_size,sales_weight,profit_weight,units_weight,PCT_Space_Change_Limit,optimType):\n",
    "\n",
    "# Source the R code\n",
    "r_source = robjects.r['source']\n",
    "r_source('Curve Fitting and Bound Setting v11.0.R')\n",
    "\n",
    "# # Extract the main function from the R code\n",
    "r_curvefitting_boundsetting = robjects.globalenv['curvefitting_boundsetting']\n",
    "\n",
    "# # Call the r function with the dataframes\n",
    "r_curvefitting_boundsetting(big_master_data,bound_input,increment_size,sales_weight,profit_weight,units_weight,PCT_Space_Change_Limit,optimType)\n",
    "# used in r function "
   ]
  },
  {
   "cell_type": "code",
   "execution_count": 10,
   "metadata": {
    "collapsed": false
   },
   "outputs": [
    {
     "name": "stderr",
     "output_type": "stream",
     "text": [
      "/Users/kenneth.l.sylvain/anaconda/envs/fo_worker/lib/python3.5/site-packages/rpy2/rinterface/__init__.py:185: RRuntimeWarning: Error in `$<-.data.frame`(`*tmp*`, \"Climate_Group\", value = character(0)) : \n",
      "  replacement has 0 rows, data has 9168\n",
      "\n",
      "  warnings.warn(x, RRuntimeWarning)\n",
      "/Users/kenneth.l.sylvain/anaconda/envs/fo_worker/lib/python3.5/site-packages/rpy2/rinterface/__init__.py:185: RRuntimeWarning: In addition: \n",
      "  warnings.warn(x, RRuntimeWarning)\n",
      "/Users/kenneth.l.sylvain/anaconda/envs/fo_worker/lib/python3.5/site-packages/rpy2/rinterface/__init__.py:185: RRuntimeWarning: There were 50 or more warnings (use warnings() to see the first 50)\n",
      "  warnings.warn(x, RRuntimeWarning)\n",
      "/Users/kenneth.l.sylvain/anaconda/envs/fo_worker/lib/python3.5/site-packages/rpy2/rinterface/__init__.py:185: RRuntimeWarning: \n",
      "\n",
      "  warnings.warn(x, RRuntimeWarning)\n"
     ]
    },
    {
     "ename": "RRuntimeError",
     "evalue": "Error in `$<-.data.frame`(`*tmp*`, \"Climate_Group\", value = character(0)) : \n  replacement has 0 rows, data has 9168\n",
     "output_type": "error",
     "traceback": [
      "\u001b[0;31m---------------------------------------------------------------------------\u001b[0m",
      "\u001b[0;31mRRuntimeError\u001b[0m                             Traceback (most recent call last)",
      "\u001b[0;32m<ipython-input-10-72194754179e>\u001b[0m in \u001b[0;36m<module>\u001b[0;34m()\u001b[0m\n\u001b[1;32m      9\u001b[0m \u001b[0;34m\u001b[0m\u001b[0m\n\u001b[1;32m     10\u001b[0m \u001b[0;31m# # Call the r function with the dataframes\u001b[0m\u001b[0;34m\u001b[0m\u001b[0;34m\u001b[0m\u001b[0m\n\u001b[0;32m---> 11\u001b[0;31m \u001b[0mr_curvefitting_boundsetting\u001b[0m\u001b[0;34m(\u001b[0m\u001b[0mbig_master_data\u001b[0m\u001b[0;34m,\u001b[0m\u001b[0mbound_input\u001b[0m\u001b[0;34m,\u001b[0m\u001b[0mincrement_Size\u001b[0m\u001b[0;34m,\u001b[0m\u001b[0msales_weight\u001b[0m\u001b[0;34m,\u001b[0m\u001b[0mprofit_weight\u001b[0m\u001b[0;34m,\u001b[0m\u001b[0munits_weight\u001b[0m\u001b[0;34m,\u001b[0m\u001b[0mPCT_Space_Change_Limit\u001b[0m\u001b[0;34m,\u001b[0m\u001b[0moptimType\u001b[0m\u001b[0;34m)\u001b[0m\u001b[0;34m\u001b[0m\u001b[0m\n\u001b[0m\u001b[1;32m     12\u001b[0m \u001b[0;31m# used in r function\u001b[0m\u001b[0;34m\u001b[0m\u001b[0;34m\u001b[0m\u001b[0m\n",
      "\u001b[0;32m/Users/kenneth.l.sylvain/anaconda/envs/fo_worker/lib/python3.5/site-packages/rpy2/robjects/functions.py\u001b[0m in \u001b[0;36m__call__\u001b[0;34m(self, *args, **kwargs)\u001b[0m\n\u001b[1;32m    176\u001b[0m                 \u001b[0mv\u001b[0m \u001b[0;34m=\u001b[0m \u001b[0mkwargs\u001b[0m\u001b[0;34m.\u001b[0m\u001b[0mpop\u001b[0m\u001b[0;34m(\u001b[0m\u001b[0mk\u001b[0m\u001b[0;34m)\u001b[0m\u001b[0;34m\u001b[0m\u001b[0m\n\u001b[1;32m    177\u001b[0m                 \u001b[0mkwargs\u001b[0m\u001b[0;34m[\u001b[0m\u001b[0mr_k\u001b[0m\u001b[0;34m]\u001b[0m \u001b[0;34m=\u001b[0m \u001b[0mv\u001b[0m\u001b[0;34m\u001b[0m\u001b[0m\n\u001b[0;32m--> 178\u001b[0;31m         \u001b[0;32mreturn\u001b[0m \u001b[0msuper\u001b[0m\u001b[0;34m(\u001b[0m\u001b[0mSignatureTranslatedFunction\u001b[0m\u001b[0;34m,\u001b[0m \u001b[0mself\u001b[0m\u001b[0;34m)\u001b[0m\u001b[0;34m.\u001b[0m\u001b[0m__call__\u001b[0m\u001b[0;34m(\u001b[0m\u001b[0;34m*\u001b[0m\u001b[0margs\u001b[0m\u001b[0;34m,\u001b[0m \u001b[0;34m**\u001b[0m\u001b[0mkwargs\u001b[0m\u001b[0;34m)\u001b[0m\u001b[0;34m\u001b[0m\u001b[0m\n\u001b[0m\u001b[1;32m    179\u001b[0m \u001b[0;34m\u001b[0m\u001b[0m\n\u001b[1;32m    180\u001b[0m \u001b[0mpattern_link\u001b[0m \u001b[0;34m=\u001b[0m \u001b[0mre\u001b[0m\u001b[0;34m.\u001b[0m\u001b[0mcompile\u001b[0m\u001b[0;34m(\u001b[0m\u001b[0;34mr'\\\\link\\{(.+?)\\}'\u001b[0m\u001b[0;34m)\u001b[0m\u001b[0;34m\u001b[0m\u001b[0m\n",
      "\u001b[0;32m/Users/kenneth.l.sylvain/anaconda/envs/fo_worker/lib/python3.5/site-packages/rpy2/robjects/functions.py\u001b[0m in \u001b[0;36m__call__\u001b[0;34m(self, *args, **kwargs)\u001b[0m\n\u001b[1;32m    104\u001b[0m         \u001b[0;32mfor\u001b[0m \u001b[0mk\u001b[0m\u001b[0;34m,\u001b[0m \u001b[0mv\u001b[0m \u001b[0;32min\u001b[0m \u001b[0mkwargs\u001b[0m\u001b[0;34m.\u001b[0m\u001b[0mitems\u001b[0m\u001b[0;34m(\u001b[0m\u001b[0;34m)\u001b[0m\u001b[0;34m:\u001b[0m\u001b[0;34m\u001b[0m\u001b[0m\n\u001b[1;32m    105\u001b[0m             \u001b[0mnew_kwargs\u001b[0m\u001b[0;34m[\u001b[0m\u001b[0mk\u001b[0m\u001b[0;34m]\u001b[0m \u001b[0;34m=\u001b[0m \u001b[0mconversion\u001b[0m\u001b[0;34m.\u001b[0m\u001b[0mpy2ri\u001b[0m\u001b[0;34m(\u001b[0m\u001b[0mv\u001b[0m\u001b[0;34m)\u001b[0m\u001b[0;34m\u001b[0m\u001b[0m\n\u001b[0;32m--> 106\u001b[0;31m         \u001b[0mres\u001b[0m \u001b[0;34m=\u001b[0m \u001b[0msuper\u001b[0m\u001b[0;34m(\u001b[0m\u001b[0mFunction\u001b[0m\u001b[0;34m,\u001b[0m \u001b[0mself\u001b[0m\u001b[0;34m)\u001b[0m\u001b[0;34m.\u001b[0m\u001b[0m__call__\u001b[0m\u001b[0;34m(\u001b[0m\u001b[0;34m*\u001b[0m\u001b[0mnew_args\u001b[0m\u001b[0;34m,\u001b[0m \u001b[0;34m**\u001b[0m\u001b[0mnew_kwargs\u001b[0m\u001b[0;34m)\u001b[0m\u001b[0;34m\u001b[0m\u001b[0m\n\u001b[0m\u001b[1;32m    107\u001b[0m         \u001b[0mres\u001b[0m \u001b[0;34m=\u001b[0m \u001b[0mconversion\u001b[0m\u001b[0;34m.\u001b[0m\u001b[0mri2ro\u001b[0m\u001b[0;34m(\u001b[0m\u001b[0mres\u001b[0m\u001b[0;34m)\u001b[0m\u001b[0;34m\u001b[0m\u001b[0m\n\u001b[1;32m    108\u001b[0m         \u001b[0;32mreturn\u001b[0m \u001b[0mres\u001b[0m\u001b[0;34m\u001b[0m\u001b[0m\n",
      "\u001b[0;31mRRuntimeError\u001b[0m: Error in `$<-.data.frame`(`*tmp*`, \"Climate_Group\", value = character(0)) : \n  replacement has 0 rows, data has 9168\n"
     ]
    }
   ],
   "source": [
    "#def rpy2_curve_fitting_bound_setting(big_master_data,bound_input,increment_size,sales_weight,profit_weight,units_weight,PCT_Space_Change_Limit,optimType):\n",
    "\n",
    "# Source the R code\n",
    "r_source = robjects.r['source']\n",
    "r_source('Curve Fitting and Bound Setting v11.0.R')\n",
    "\n",
    "# # Extract the main function from the R code\n",
    "r_curvefitting_boundsetting = robjects.globalenv['curvefitting_boundsetting']\n",
    "\n",
    "# # Call the r function with the dataframes\n",
    "r_curvefitting_boundsetting(big_master_data,bound_input,increment_size,sales_weight,profit_weight,units_weight,PCT_Space_Change_Limit,optimType)\n",
    "# used in r function \n",
    "\n"
   ]
  }
 ],
 "metadata": {
  "anaconda-cloud": {},
  "kernelspec": {
   "display_name": "Python [fo_worker]",
   "language": "python",
   "name": "Python [fo_worker]"
  },
  "language_info": {
   "codemirror_mode": {
    "name": "ipython",
    "version": 3
   },
   "file_extension": ".py",
   "mimetype": "text/x-python",
   "name": "python",
   "nbconvert_exporter": "python",
   "pygments_lexer": "ipython3",
   "version": "3.5.2"
  }
 },
 "nbformat": 4,
 "nbformat_minor": 0
}
