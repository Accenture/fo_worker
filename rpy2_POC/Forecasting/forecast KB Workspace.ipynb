{
 "cells": [
  {
   "cell_type": "code",
   "execution_count": 7,
   "metadata": {
    "collapsed": false
   },
   "outputs": [
    {
     "name": "stdout",
     "output_type": "stream",
     "text": [
      "/Users/kenneth.l.sylvain/Sites/kohls/fo_worker/rpy2_POC/Forecasting\n"
     ]
    }
   ],
   "source": [
    "import rpy2\n",
    "import pandas as pd\n",
    "import numpy as np\n",
    "#import rpy2POC\n",
    "\n",
    "import rpy2.robjects as robjects\n",
    "from rpy2.robjects.vectors import DataFrame\n",
    "from rpy2.robjects import pandas2ri\n",
    "\n",
    "pandas2ri.activate()\n",
    "\n",
    "\n",
    "import os \n",
    "cwd = os.getcwd()\n",
    "print(cwd)\n",
    "\n",
    "r_source = rpy2.robjects.r['source']\n",
    "R_Forecast_Input = DataFrame.from_csvfile(\"Forecast_Input.csv\", header = True, sep = \",\")\n",
    "\n"
   ]
  },
  {
   "cell_type": "code",
   "execution_count": null,
   "metadata": {
    "collapsed": true
   },
   "outputs": [],
   "source": []
  },
  {
   "cell_type": "code",
   "execution_count": 17,
   "metadata": {
    "collapsed": false
   },
   "outputs": [],
   "source": [
    "def rpy2_forecasting(Fcst):\n",
    "    # Source R code\n",
    "    r_source('Forecast_function_8_10.R')\n",
    "    # Get R function name in environment\n",
    "    r_forecast = robjects.globalenv['forecast']\n",
    "    # Run function with R data frame input    \n",
    "    r_output=r_forecast(Fcst)\n",
    "    # Convert function output back to Python\n",
    "    p_output = pandas2ri.ri2py(r_output)\n",
    "    return(p_output)"
   ]
  },
  {
   "cell_type": "code",
   "execution_count": 18,
   "metadata": {
    "collapsed": true
   },
   "outputs": [],
   "source": [
    "a=rpy2_forecasting(R_Forecast_Input)"
   ]
  },
  {
   "cell_type": "code",
   "execution_count": 19,
   "metadata": {
    "collapsed": false
   },
   "outputs": [
    {
     "data": {
      "text/plain": [
       "pandas.core.frame.DataFrame"
      ]
     },
     "execution_count": 19,
     "metadata": {},
     "output_type": "execute_result"
    }
   ],
   "source": [
    "type(a)"
   ]
  },
  {
   "cell_type": "code",
   "execution_count": 20,
   "metadata": {
    "collapsed": false
   },
   "outputs": [
    {
     "data": {
      "text/html": [
       "<div>\n",
       "<table border=\"1\" class=\"dataframe\">\n",
       "  <thead>\n",
       "    <tr style=\"text-align: right;\">\n",
       "      <th></th>\n",
       "      <th>Store</th>\n",
       "      <th>Climate</th>\n",
       "      <th>VSG</th>\n",
       "      <th>Product</th>\n",
       "      <th>Space</th>\n",
       "      <th>Sales</th>\n",
       "      <th>Units</th>\n",
       "      <th>Profit</th>\n",
       "      <th>Recommended_Space</th>\n",
       "      <th>Estimated_Sales</th>\n",
       "      <th>Estimated_Profit</th>\n",
       "      <th>Estimated_Units</th>\n",
       "      <th>Lower_Limit</th>\n",
       "      <th>Upper_Limit</th>\n",
       "    </tr>\n",
       "  </thead>\n",
       "  <tbody>\n",
       "    <tr>\n",
       "      <th>1</th>\n",
       "      <td>10</td>\n",
       "      <td>COLD</td>\n",
       "      <td>ST</td>\n",
       "      <td>CAPRIS</td>\n",
       "      <td>0.544818</td>\n",
       "      <td>229.36</td>\n",
       "      <td>10</td>\n",
       "      <td>118.588</td>\n",
       "      <td>0.544818</td>\n",
       "      <td>229.36</td>\n",
       "      <td>118.588</td>\n",
       "      <td>10.0</td>\n",
       "      <td>0.0</td>\n",
       "      <td>2.75</td>\n",
       "    </tr>\n",
       "    <tr>\n",
       "      <th>2</th>\n",
       "      <td>10</td>\n",
       "      <td>COLD</td>\n",
       "      <td>ST</td>\n",
       "      <td>CAREER LONG BTMS</td>\n",
       "      <td>2.164609</td>\n",
       "      <td>2022.50</td>\n",
       "      <td>87</td>\n",
       "      <td>979.836</td>\n",
       "      <td>2.164609</td>\n",
       "      <td>2022.50</td>\n",
       "      <td>979.836</td>\n",
       "      <td>87.0</td>\n",
       "      <td>1.0</td>\n",
       "      <td>4.25</td>\n",
       "    </tr>\n",
       "    <tr>\n",
       "      <th>3</th>\n",
       "      <td>10</td>\n",
       "      <td>COLD</td>\n",
       "      <td>ST</td>\n",
       "      <td>DENIM LONG BTMS</td>\n",
       "      <td>1.007293</td>\n",
       "      <td>862.73</td>\n",
       "      <td>40</td>\n",
       "      <td>319.708</td>\n",
       "      <td>1.007293</td>\n",
       "      <td>862.73</td>\n",
       "      <td>319.708</td>\n",
       "      <td>40.0</td>\n",
       "      <td>0.0</td>\n",
       "      <td>4.00</td>\n",
       "    </tr>\n",
       "    <tr>\n",
       "      <th>4</th>\n",
       "      <td>10</td>\n",
       "      <td>COLD</td>\n",
       "      <td>ST</td>\n",
       "      <td>DRESSES</td>\n",
       "      <td>1.016317</td>\n",
       "      <td>839.50</td>\n",
       "      <td>37</td>\n",
       "      <td>408.717</td>\n",
       "      <td>1.016317</td>\n",
       "      <td>839.50</td>\n",
       "      <td>408.717</td>\n",
       "      <td>37.0</td>\n",
       "      <td>0.5</td>\n",
       "      <td>4.50</td>\n",
       "    </tr>\n",
       "    <tr>\n",
       "      <th>5</th>\n",
       "      <td>10</td>\n",
       "      <td>COLD</td>\n",
       "      <td>ST</td>\n",
       "      <td>JACKETS</td>\n",
       "      <td>0.637313</td>\n",
       "      <td>587.56</td>\n",
       "      <td>22</td>\n",
       "      <td>209.564</td>\n",
       "      <td>0.637313</td>\n",
       "      <td>587.56</td>\n",
       "      <td>209.564</td>\n",
       "      <td>22.0</td>\n",
       "      <td>0.0</td>\n",
       "      <td>1.50</td>\n",
       "    </tr>\n",
       "  </tbody>\n",
       "</table>\n",
       "</div>"
      ],
      "text/plain": [
       "   Store Climate VSG           Product     Space    Sales  Units   Profit  \\\n",
       "1     10    COLD  ST            CAPRIS  0.544818   229.36     10  118.588   \n",
       "2     10    COLD  ST  CAREER LONG BTMS  2.164609  2022.50     87  979.836   \n",
       "3     10    COLD  ST   DENIM LONG BTMS  1.007293   862.73     40  319.708   \n",
       "4     10    COLD  ST           DRESSES  1.016317   839.50     37  408.717   \n",
       "5     10    COLD  ST           JACKETS  0.637313   587.56     22  209.564   \n",
       "\n",
       "   Recommended_Space  Estimated_Sales  Estimated_Profit  Estimated_Units  \\\n",
       "1           0.544818           229.36           118.588             10.0   \n",
       "2           2.164609          2022.50           979.836             87.0   \n",
       "3           1.007293           862.73           319.708             40.0   \n",
       "4           1.016317           839.50           408.717             37.0   \n",
       "5           0.637313           587.56           209.564             22.0   \n",
       "\n",
       "   Lower_Limit  Upper_Limit  \n",
       "1          0.0         2.75  \n",
       "2          1.0         4.25  \n",
       "3          0.0         4.00  \n",
       "4          0.5         4.50  \n",
       "5          0.0         1.50  "
      ]
     },
     "execution_count": 20,
     "metadata": {},
     "output_type": "execute_result"
    }
   ],
   "source": [
    "a.head()"
   ]
  },
  {
   "cell_type": "code",
   "execution_count": null,
   "metadata": {
    "collapsed": true
   },
   "outputs": [],
   "source": []
  },
  {
   "cell_type": "code",
   "execution_count": null,
   "metadata": {
    "collapsed": true
   },
   "outputs": [],
   "source": []
  },
  {
   "cell_type": "code",
   "execution_count": 16,
   "metadata": {
    "collapsed": false
   },
   "outputs": [
    {
     "data": {
      "text/plain": [
       "pandas.core.frame.DataFrame"
      ]
     },
     "execution_count": 16,
     "metadata": {},
     "output_type": "execute_result"
    }
   ],
   "source": [
    "type(p_output)"
   ]
  },
  {
   "cell_type": "code",
   "execution_count": null,
   "metadata": {
    "collapsed": true
   },
   "outputs": [],
   "source": []
  },
  {
   "cell_type": "code",
   "execution_count": null,
   "metadata": {
    "collapsed": true
   },
   "outputs": [],
   "source": []
  },
  {
   "cell_type": "code",
   "execution_count": null,
   "metadata": {
    "collapsed": true
   },
   "outputs": [],
   "source": []
  },
  {
   "cell_type": "code",
   "execution_count": null,
   "metadata": {
    "collapsed": true
   },
   "outputs": [],
   "source": []
  },
  {
   "cell_type": "code",
   "execution_count": null,
   "metadata": {
    "collapsed": true
   },
   "outputs": [],
   "source": []
  },
  {
   "cell_type": "code",
   "execution_count": null,
   "metadata": {
    "collapsed": true
   },
   "outputs": [],
   "source": []
  },
  {
   "cell_type": "code",
   "execution_count": null,
   "metadata": {
    "collapsed": true
   },
   "outputs": [],
   "source": []
  },
  {
   "cell_type": "code",
   "execution_count": null,
   "metadata": {
    "collapsed": true
   },
   "outputs": [],
   "source": []
  },
  {
   "cell_type": "code",
   "execution_count": 3,
   "metadata": {
    "collapsed": false
   },
   "outputs": [
    {
     "ename": "IndentationError",
     "evalue": "expected an indented block (<ipython-input-3-c7ec83027703>, line 2)",
     "output_type": "error",
     "traceback": [
      "\u001b[0;36m  File \u001b[0;32m\"<ipython-input-3-c7ec83027703>\"\u001b[0;36m, line \u001b[0;32m2\u001b[0m\n\u001b[0;31m    try:\u001b[0m\n\u001b[0m      ^\u001b[0m\n\u001b[0;31mIndentationError\u001b[0m\u001b[0;31m:\u001b[0m expected an indented block\n"
     ]
    }
   ],
   "source": [
    "def forecasting():\n",
    "try:\n",
    "    Fcst = DataFrame.from_csvfile(\"Forecast_Input.csv\", header = True, sep = \",\")\n",
    "\n",
    "\n",
    "    r_source('Forecast_function_8_10.R')\n",
    "\n",
    "    r_forecast = robjects.globalenv['forecast']\n",
    "\n",
    "    r_forecast(Fcst)\n",
    "except:\n",
    "    print(\"Forecasting failed\")\n",
    "return"
   ]
  },
  {
   "cell_type": "code",
   "execution_count": null,
   "metadata": {
    "collapsed": true
   },
   "outputs": [],
   "source": []
  }
 ],
 "metadata": {
  "anaconda-cloud": {},
  "kernelspec": {
   "display_name": "Python [fo_worker]",
   "language": "python",
   "name": "Python [fo_worker]"
  },
  "language_info": {
   "codemirror_mode": {
    "name": "ipython",
    "version": 3
   },
   "file_extension": ".py",
   "mimetype": "text/x-python",
   "name": "python",
   "nbconvert_exporter": "python",
   "pygments_lexer": "ipython3",
   "version": "3.5.2"
  }
 },
 "nbformat": 4,
 "nbformat_minor": 0
}
