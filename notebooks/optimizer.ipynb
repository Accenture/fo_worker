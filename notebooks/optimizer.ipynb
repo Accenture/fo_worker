{
 "cells": [
  {
   "cell_type": "code",
   "execution_count": null,
   "metadata": {
    "ExecuteTime": {
     "end_time": "2016-06-16T10:07:43.854399",
     "start_time": "2016-06-16T10:07:43.850590"
    },
    "collapsed": false
   },
   "outputs": [],
   "source": [
    "import os\n",
    "import sys\n",
    "sys.path.append(os.path.join(os.path.dirname(os.getcwd()), 'src'))"
   ]
  },
  {
   "cell_type": "code",
   "execution_count": null,
   "metadata": {
    "ExecuteTime": {
     "end_time": "2016-06-16T10:07:44.338263",
     "start_time": "2016-06-16T10:07:43.855617"
    },
    "collapsed": true
   },
   "outputs": [],
   "source": [
    "import pandas as pd\n",
    "import numpy as np"
   ]
  },
  {
   "cell_type": "code",
   "execution_count": null,
   "metadata": {
    "ExecuteTime": {
     "end_time": "2016-06-16T10:07:44.389114",
     "start_time": "2016-06-16T10:07:44.339641"
    },
    "collapsed": true
   },
   "outputs": [],
   "source": [
    "from optimizer import SampleFile"
   ]
  },
  {
   "cell_type": "code",
   "execution_count": null,
   "metadata": {
    "ExecuteTime": {
     "end_time": "2016-06-16T10:07:44.434275",
     "start_time": "2016-06-16T10:07:44.390484"
    },
    "collapsed": false,
    "scrolled": true
   },
   "outputs": [],
   "source": [
    "optimal_space = pd.read_csv(\n",
    "    SampleFile.get('Optimal_Space.csv'),\n",
    "    header=0).set_index(\"Store\")\n",
    "optimal_space"
   ]
  },
  {
   "cell_type": "code",
   "execution_count": null,
   "metadata": {
    "ExecuteTime": {
     "end_time": "2016-06-16T10:07:44.443171",
     "start_time": "2016-06-16T10:07:44.435925"
    },
    "collapsed": false
   },
   "outputs": [],
   "source": [
    "brand_exit = pd.read_csv(\n",
    "    SampleFile.get('Brand_Exit.csv'),\n",
    "    header=0).set_index(\"Store\").to_dict()"
   ]
  },
  {
   "cell_type": "code",
   "execution_count": null,
   "metadata": {
    "collapsed": true
   },
   "outputs": [],
   "source": []
  },
  {
   "cell_type": "code",
   "execution_count": null,
   "metadata": {
    "ExecuteTime": {
     "end_time": "2016-06-16T10:07:44.471481",
     "start_time": "2016-06-16T10:07:44.444375"
    },
    "collapsed": false
   },
   "outputs": [],
   "source": [
    "pd.read_csv(SampleFile.get('Brand_Exit.csv'), header=0).set_index('Store')"
   ]
  }
 ],
 "metadata": {
  "kernelspec": {
   "display_name": "Python 3",
   "language": "python",
   "name": "python3"
  },
  "language_info": {
   "codemirror_mode": {
    "name": "ipython",
    "version": 3
   },
   "file_extension": ".py",
   "mimetype": "text/x-python",
   "name": "python",
   "nbconvert_exporter": "python",
   "pygments_lexer": "ipython3",
   "version": "3.5.1"
  }
 },
 "nbformat": 4,
 "nbformat_minor": 0
}
